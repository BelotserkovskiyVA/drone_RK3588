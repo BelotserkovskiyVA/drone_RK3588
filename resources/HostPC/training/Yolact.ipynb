{
 "cells": [
  {
   "cell_type": "markdown",
   "id": "9fc5966e",
   "metadata": {},
   "source": [
    "```\n",
    "Yolact_minimal:\n",
    "```\n",
    "https://github.com/feiyuhuahuo/Yolact_minimal/tree/master"
   ]
  },
  {
   "cell_type": "markdown",
   "id": "c1ff6ebd-5919-4b71-91a7-6d8551b9b923",
   "metadata": {},
   "source": [
    "``` bash\n",
    "git clone https://github.com/feiyuhuahuo/Yolact_minimal.git\n",
    "cd Yolact_minimal/\n",
    "```"
   ]
  },
  {
   "cell_type": "code",
   "execution_count": 1,
   "id": "049179a5",
   "metadata": {
    "scrolled": true
   },
   "outputs": [],
   "source": [
    "#!pip install labelme pycocotools tensorboardX terminaltables"
   ]
  },
  {
   "cell_type": "markdown",
   "id": "da77d52e",
   "metadata": {},
   "source": [
    "**Train custom datasets (instruction)**"
   ]
  },
  {
   "cell_type": "markdown",
   "id": "abab2f70",
   "metadata": {},
   "source": [
    "```\n",
    "1) Use labelme to label your images, only polygons are needed.\n",
    "1.1 Move images and json-files to './custom_dataset/'\n",
    "    all_jsons.json, all_imgs.jpg -> /custom_dataset\n",
    "\n",
    "2) Prepare a 'labels.txt' like this, this first line: 'background' is always needed.\n",
    "custom_dataset/labels.txt:\n",
    "        background\n",
    "        roof\n",
    "\n",
    "3) Prepare coco-style json, pass the paths of your image folder and the labels.txt. The image type is also needed. The 'custom_dataset' folder is a prepared example.\n",
    "\n",
    "```"
   ]
  },
  {
   "cell_type": "code",
   "execution_count": 2,
   "id": "a4c10b1b",
   "metadata": {},
   "outputs": [
    {
     "name": "stdout",
     "output_type": "stream",
     "text": [
      "Created class_name_to_id: {'background': 0, 'roof': 1}.\n",
      "\n",
      "Generating dataset from: custom_dataset/roof_cam6.json\n",
      "Generating dataset from: custom_dataset/6.json\n",
      "Generating dataset from: custom_dataset/roof_cam3.json\n",
      "Generating dataset from: custom_dataset/custom_ann.json\n",
      "Traceback (most recent call last):\n",
      "  File \"/usr/src/app/Yolact_minimal/utils/labelme2coco.py\", line 35, in <module>\n",
      "    img_h, img_w = label_data['imageHeight'], label_data['imageWidth']\n",
      "KeyError: 'imageHeight'\n"
     ]
    }
   ],
   "source": [
    "# Prepare coco-style json\n",
    "#--img_type=jpg\n",
    "!python utils/labelme2coco.py --img_dir=custom_dataset --label_name=custom_dataset/labels.txt --img_type=png"
   ]
  },
  {
   "cell_type": "markdown",
   "id": "a956eabc",
   "metadata": {},
   "source": [
    "```\n",
    "4) Edit CUSTOM_CLASSES in config.py. Note that if there's only one class, the CUSTOM_CLASSES should be like ('dog', ). The final comma is necessary to make it as a tuple, or the number of classes would be len('dog').\n",
    "config.py:\n",
    "        CUSTOM_CLASSES = ('roof', )\n",
    "```"
   ]
  },
  {
   "cell_type": "markdown",
   "id": "d1a2df1a",
   "metadata": {},
   "source": [
    "**Train**"
   ]
  },
  {
   "cell_type": "code",
   "execution_count": null,
   "id": "836a8503",
   "metadata": {},
   "outputs": [],
   "source": [
    "# New terminal\n",
    "# python -m torch.distributed.launch --nproc_per_node=1 --master_port=$((RANDOM)) train.py --cfg=res50_custom"
   ]
  },
  {
   "cell_type": "code",
   "execution_count": 1,
   "id": "b976dde9",
   "metadata": {
    "scrolled": true
   },
   "outputs": [
    {
     "name": "stdout",
     "output_type": "stream",
     "text": [
      "/opt/conda/lib/python3.10/site-packages/torch/distributed/launch.py:181: FutureWarning: The module torch.distributed.launch is deprecated\n",
      "and will be removed in future. Use torchrun.\n",
      "Note that --use-env is set by default in torchrun.\n",
      "If your script expects `--local-rank` argument to be set, please\n",
      "change it to read from `os.environ['LOCAL_RANK']` instead. See \n",
      "https://pytorch.org/docs/stable/distributed.html#launch-utility for \n",
      "further instructions\n",
      "\n",
      "  warnings.warn(\n",
      "^C\n",
      "WARNING:torch.distributed.elastic.agent.server.api:Received 2 death signal, shutting down workers\n",
      "WARNING:torch.distributed.elastic.multiprocessing.api:Sending process 204 closing signal SIGINT\n",
      "\n"
     ]
    }
   ],
   "source": [
    "!python -m torch.distributed.launch --nproc_per_node=1 --master_port=$((RANDOM)) train.py --cfg=res50_custom"
   ]
  },
  {
   "cell_type": "markdown",
   "id": "8b933e38",
   "metadata": {},
   "source": [
    "**Test**"
   ]
  },
  {
   "cell_type": "code",
   "execution_count": 1,
   "id": "75272195",
   "metadata": {},
   "outputs": [
    {
     "name": "stdout",
     "output_type": "stream",
     "text": [
      "\n",
      "------------------------------res50_custom------------------------------\n",
      "mode: detect\n",
      "cuda: True\n",
      "gpu_id: 0\n",
      "img_size: 544\n",
      "class_names: ('roof',)\n",
      "num_classes: 2\n",
      "scales: [24, 48, 96, 192, 384]\n",
      "aspect_ratios: [1, 0.5, 2]\n",
      "weight: weights/latest_res50_custom_2000.pth\n",
      "traditional_nms: False\n",
      "nms_score_thre: 0.05\n",
      "nms_iou_thre: 0.5\n",
      "top_k: 200\n",
      "max_detections: 100\n",
      "image: images_folder/roof\n",
      "video: None\n",
      "hide_mask: False\n",
      "hide_bbox: False\n",
      "hide_score: False\n",
      "cutout: False\n",
      "save_lincomb: False\n",
      "no_crop: False\n",
      "real_time: False\n",
      "visual_thre: 0.3\n",
      "\n",
      "Model loaded with weights/latest_res50_custom_2000.pth.\n",
      "\n",
      "Number of all parameters: 30598098\n",
      "\n",
      "Testing: ████████████████████████████████████████ 2/2, fps: 42.14 | total fps: 5.52 | t_t: 0.181 | t_d: 0.001 | t_f: 0.013 | t_nms: 0.008 | t_after_nms: 0.001 | t_save_img: 0.158\n",
      "Finished, saved in: results/images.\n"
     ]
    }
   ],
   "source": [
    "# Входные изображения - images_folder/roof\n",
    "# Результат сохраняется в - results/images\n",
    "!python detect.py --weight=weights/latest_res50_custom_2000.pth --image=images_folder/roof"
   ]
  },
  {
   "cell_type": "markdown",
   "id": "1b9c4ea9",
   "metadata": {},
   "source": [
    "**export**"
   ]
  },
  {
   "cell_type": "code",
   "execution_count": 1,
   "id": "3c7986f5",
   "metadata": {},
   "outputs": [
    {
     "name": "stdout",
     "output_type": "stream",
     "text": [
      "\n",
      "------------------------------res50_custom------------------------------\n",
      "mode: detect\n",
      "cuda: True\n",
      "gpu_id: 0\n",
      "img_size: 544\n",
      "class_names: ('roof',)\n",
      "num_classes: 2\n",
      "scales: [24, 48, 96, 192, 384]\n",
      "aspect_ratios: [1, 0.5, 2]\n",
      "weight: weights/latest_res50_custom_2000.pth\n",
      "traditional_nms: False\n",
      "nms_score_thre: 0.05\n",
      "nms_iou_thre: 0.5\n",
      "top_k: 200\n",
      "max_detections: 100\n",
      "opset: 12\n",
      "\n",
      "Model loaded with weights/latest_res50_custom_2000.pth.\n",
      "\n",
      "Number of all parameters: 30598098\n",
      "\n",
      "================ Diagnostic Run torch.onnx.export version 2.0.0 ================\n",
      "verbose: False, log level: Level.ERROR\n",
      "======================= 0 NONE 0 NOTE 0 WARNING 0 ERROR ========================\n",
      "\n",
      "out: 0, diff: -1.415795850334689e-06\n",
      "out: 1, diff: -0.021578336134552956\n",
      "out: 2, diff: -0.0005352501175366342\n",
      "out: 3, diff: 0.0067505305632948875\n",
      "\n",
      "Exported as `onnx_files/res50_custom.onnx`.\n"
     ]
    }
   ],
   "source": [
    "!python export2onnx.py --weight='weights/latest_res50_custom_2000.pth' --opset=12"
   ]
  },
  {
   "cell_type": "code",
   "execution_count": null,
   "id": "fdfb9896",
   "metadata": {},
   "outputs": [],
   "source": []
  }
 ],
 "metadata": {
  "kernelspec": {
   "display_name": "Python 3 (ipykernel)",
   "language": "python",
   "name": "python3"
  },
  "language_info": {
   "codemirror_mode": {
    "name": "ipython",
    "version": 3
   },
   "file_extension": ".py",
   "mimetype": "text/x-python",
   "name": "python",
   "nbconvert_exporter": "python",
   "pygments_lexer": "ipython3",
   "version": "3.8.16"
  }
 },
 "nbformat": 4,
 "nbformat_minor": 5
}
