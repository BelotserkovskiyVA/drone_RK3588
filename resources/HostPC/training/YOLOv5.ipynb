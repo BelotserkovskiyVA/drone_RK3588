{
 "cells": [
  {
   "cell_type": "markdown",
   "id": "ec989235-f4d5-4e06-be87-d136588bf75a",
   "metadata": {},
   "source": [
    "**Download YOLOv5**"
   ]
  },
  {
   "cell_type": "markdown",
   "id": "96f25059-cfee-406d-9487-5d99ec7c9317",
   "metadata": {},
   "source": [
    "https://github.com/ultralytics/yolov5"
   ]
  },
  {
   "cell_type": "markdown",
   "id": "e2261235-66cd-4301-89e6-4a50398fd818",
   "metadata": {},
   "source": [
    "**Get acquainted with the tutorial**"
   ]
  },
  {
   "cell_type": "markdown",
   "id": "dbd7a37c-c0d2-4c09-ac62-eab17726fbf5",
   "metadata": {},
   "source": [
    "https://github.com/ultralytics/yolov5/blob/master/tutorial.ipynb"
   ]
  },
  {
   "cell_type": "markdown",
   "id": "736ae410-9a32-4ac1-85b4-8e0814c89c0c",
   "metadata": {},
   "source": [
    "**Train**"
   ]
  },
  {
   "cell_type": "code",
   "execution_count": null,
   "id": "83b5e77b-ddd6-4b6a-9816-ff66a7eb9d04",
   "metadata": {
    "tags": []
   },
   "outputs": [],
   "source": [
    "# Train YOLOv5s on COCO128 for 3 epochs\n",
    "!python train.py --img 640 --batch 16 --epochs 3 --data coco128.yaml --weights yolov5s.pt"
   ]
  },
  {
   "cell_type": "markdown",
   "id": "7170276a-a9c1-4685-b73a-b9ed8b0d8d9f",
   "metadata": {},
   "source": [
    "**Replace some code**"
   ]
  },
  {
   "cell_type": "code",
   "execution_count": null,
   "id": "2c48e313-53e5-4e6e-83ce-6284f18f0df5",
   "metadata": {},
   "outputs": [],
   "source": [
    "# models/yolo.py\n",
    "\n",
    "#insert into 80 line\n",
    "def forward_export(self, x): # 81\n",
    "    for i in range(self.nl):\n",
    "        x[i] = self.m[i](x[i])  # conv\n",
    "        x[i] = x[i].sigmoid() \n",
    "    return x "
   ]
  },
  {
   "cell_type": "code",
   "execution_count": null,
   "id": "e91f3d93-46db-46e4-996e-5eb55aa31fa2",
   "metadata": {},
   "outputs": [],
   "source": [
    "# export.py\n",
    "\n",
    "#change \"Update model\"\n",
    "model.eval()\n",
    "print('\\nKhadas/RK3588')\n",
    "for k, m in model.named_modules():\n",
    "    if isinstance(m, Detect):                \n",
    "        m.inplace = inplace\n",
    "        m.onnx_dynamic = dynamic\n",
    "        m.forward = m.forward_export #709 <-- this line\n",
    "        m.export = True"
   ]
  },
  {
   "cell_type": "markdown",
   "id": "782f6403-5ba9-4e8b-8ed6-dc7c87c32e16",
   "metadata": {},
   "source": [
    "**Export model**"
   ]
  },
  {
   "cell_type": "code",
   "execution_count": null,
   "id": "3f410a2d-6a3b-43fd-8b00-e2c3283d7a33",
   "metadata": {},
   "outputs": [],
   "source": [
    "!python3 export.py --weights /runs/train/exp/weights/best.pt --include onnx --opset 11"
   ]
  }
 ],
 "metadata": {
  "kernelspec": {
   "display_name": "Python 3 (ipykernel)",
   "language": "python",
   "name": "python3"
  },
  "language_info": {
   "codemirror_mode": {
    "name": "ipython",
    "version": 3
   },
   "file_extension": ".py",
   "mimetype": "text/x-python",
   "name": "python",
   "nbconvert_exporter": "python",
   "pygments_lexer": "ipython3",
   "version": "3.8.5"
  }
 },
 "nbformat": 4,
 "nbformat_minor": 5
}
